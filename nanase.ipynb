{
 "cells": [
  {
   "cell_type": "code",
   "execution_count": 1,
   "metadata": {
    "collapsed": true
   },
   "outputs": [],
   "source": [
    "from nogizaka import Blog"
   ]
  },
  {
   "cell_type": "code",
   "execution_count": 2,
   "metadata": {
    "collapsed": true
   },
   "outputs": [],
   "source": [
    "blog = Blog('nanase.nishino')"
   ]
  },
  {
   "cell_type": "code",
   "execution_count": 3,
   "metadata": {},
   "outputs": [
    {
     "data": {
      "text/plain": [
       "'nanase.nishino'"
      ]
     },
     "execution_count": 3,
     "metadata": {},
     "output_type": "execute_result"
    }
   ],
   "source": [
    "blog.member"
   ]
  },
  {
   "cell_type": "code",
   "execution_count": 4,
   "metadata": {
    "collapsed": true
   },
   "outputs": [],
   "source": [
    "cur = blog.con.cursor()"
   ]
  },
  {
   "cell_type": "code",
   "execution_count": 16,
   "metadata": {},
   "outputs": [],
   "source": [
    "cur.execute(\"select a.url, title, published, content, b.url, file_path from (select * from detail_contents limit 5) a join (select * from images) b on a.id=b.detail_id\")\n",
    "rows = cur.fetchall()"
   ]
  },
  {
   "cell_type": "code",
   "execution_count": 17,
   "metadata": {},
   "outputs": [
    {
     "name": "stdout",
     "output_type": "stream",
     "text": [
      "http://blog.nogizaka46.com/nanase.nishino/?d=20170414\n",
      "魚影\n",
      "2017-04-14 00:00:00\n",
      "<div class=\"entrybody\"><div> </div><div> </div><div>今までつったことのないところ</div><div>そこ つれるんや...ってところ、腕の付け根とか、腰とか</div><div>とにかく最近体がつりやすい</div><div>昨日は首。痛かったぁ</div><div>必殺寝起きの不意打ち両ふくらはぎ ほど痛くないけど、ぐぅ！ってなる(-_-)</div><div> </div><div>水分補給！</div><div> </div><div><a href=\"http://dcimg.awalker.jp/img1.php?id=GCFRAuT3tyKYfUef9GrnGdotfkTjZlEt6ckEHqcMtNX78pqPcNZaBWEbbyB1Eku6XZEH8BPr2xQGvkCiKROrG4E2TdrwjfTDuqBzT0MSBpLn8x73YT3lGTRt7cjwhZPBbTHtP2Ebx2Wa7CO7MzSd4Wd1gJjs7XCOmZ2JsPO7Jj4YSunkO6sBI2enVgUWDW5ojMvPfTDh\"><img src=\"http://img.nogizaka46.com/blog/nanase.nishino/img/2017/04/14/7677042/0000.jpeg\"/></a></div><div>長い廊下〜</div><div>好物！</div><div>裸足でペタペタ走りたくなる</div><div> </div><div>撮影で、ちょいちょい、いろんな場所に行けるのが嬉しい&amp;楽しい！</div><div>旅館の大浴場がご褒美！</div><div>車から景色見るのも好きです、東京とは違った 自然とか、開放感があって 気持ちもリラックスする気がします✨</div><div> </div><div> </div><div>夢によく地元の通学路とか学校とか出てくるけど、現実とちょっと違ったりする</div><div>でも記憶が曖昧なものだし 確かめれないし</div><div>こんなんやっけ？あーでも懐かしー って思いながら見てる</div><div>もやもや。</div><div> いつか将来 答え合わせツアーする！</div><div> </div><div> </div><div>宝石の国が読みたくて</div><div>撮影の空いた時間</div><div>月刊アフタヌーンを買いに書店へ〜</div><div>買った本をビニール袋じゃなくて、肌色の紙袋に入れてくれるお店で、ほっこりしました。ガサガサ鳴るやつ！</div><div> </div><div>この漫画は、去年 読み始めたんですが</div><div>宝石たちの制服可愛いすぎる、スタイル良くて可愛いすぎる、説明の少ない設定、世界観に興味湧きすぎる</div><div>もー すぐ好きになりました！</div><div> アンタークチサイトさん好きです</div><div>これからも楽しみ(^o^)！</div><div> </div><div>ずっと漫画に寄り添って生きていきたい(^o^)</div><div> </div><div></div><div> </div><div> </div><div><a href=\"http://dcimg.awalker.jp/img1.php?id=iRYBO3DwohvQhbLJmxIwdC9p881VdppT6HEOFf2QovcqsTcLRt680OOlZIZVYPZd9NuzujAhseCJ6OYRhhbamY2YYIBs4Vd2kokWCuKX1S5vABBuLwaf6oin3T38PYx6kAPtWaSFREZSy3ZqqcS4y03j3hiA7mjk3zfowAan60szzR3Y5bjS27gQ4K8kLJmdW0lHeYwY\"><img src=\"http://img.nogizaka46.com/blog/nanase.nishino/img/2017/04/14/7677042/0002.jpeg\"/></a></div><div>きいちゃんの足</div><div> </div><div> </div><div> </div><div>またねぇ</div><div> </div></div>\n",
      "http://img.nogizaka46.com/blog/nanase.nishino/img/2017/04/14/7677042/0000.jpeg\n",
      "nanase.nishino.67635e185fa24ba1ac937c7116c8c12b\n",
      "http://blog.nogizaka46.com/nanase.nishino/?d=20170414\n",
      "魚影\n",
      "2017-04-14 00:00:00\n",
      "<div class=\"entrybody\"><div> </div><div> </div><div>今までつったことのないところ</div><div>そこ つれるんや...ってところ、腕の付け根とか、腰とか</div><div>とにかく最近体がつりやすい</div><div>昨日は首。痛かったぁ</div><div>必殺寝起きの不意打ち両ふくらはぎ ほど痛くないけど、ぐぅ！ってなる(-_-)</div><div> </div><div>水分補給！</div><div> </div><div><a href=\"http://dcimg.awalker.jp/img1.php?id=GCFRAuT3tyKYfUef9GrnGdotfkTjZlEt6ckEHqcMtNX78pqPcNZaBWEbbyB1Eku6XZEH8BPr2xQGvkCiKROrG4E2TdrwjfTDuqBzT0MSBpLn8x73YT3lGTRt7cjwhZPBbTHtP2Ebx2Wa7CO7MzSd4Wd1gJjs7XCOmZ2JsPO7Jj4YSunkO6sBI2enVgUWDW5ojMvPfTDh\"><img src=\"http://img.nogizaka46.com/blog/nanase.nishino/img/2017/04/14/7677042/0000.jpeg\"/></a></div><div>長い廊下〜</div><div>好物！</div><div>裸足でペタペタ走りたくなる</div><div> </div><div>撮影で、ちょいちょい、いろんな場所に行けるのが嬉しい&amp;楽しい！</div><div>旅館の大浴場がご褒美！</div><div>車から景色見るのも好きです、東京とは違った 自然とか、開放感があって 気持ちもリラックスする気がします✨</div><div> </div><div> </div><div>夢によく地元の通学路とか学校とか出てくるけど、現実とちょっと違ったりする</div><div>でも記憶が曖昧なものだし 確かめれないし</div><div>こんなんやっけ？あーでも懐かしー って思いながら見てる</div><div>もやもや。</div><div> いつか将来 答え合わせツアーする！</div><div> </div><div> </div><div>宝石の国が読みたくて</div><div>撮影の空いた時間</div><div>月刊アフタヌーンを買いに書店へ〜</div><div>買った本をビニール袋じゃなくて、肌色の紙袋に入れてくれるお店で、ほっこりしました。ガサガサ鳴るやつ！</div><div> </div><div>この漫画は、去年 読み始めたんですが</div><div>宝石たちの制服可愛いすぎる、スタイル良くて可愛いすぎる、説明の少ない設定、世界観に興味湧きすぎる</div><div>もー すぐ好きになりました！</div><div> アンタークチサイトさん好きです</div><div>これからも楽しみ(^o^)！</div><div> </div><div>ずっと漫画に寄り添って生きていきたい(^o^)</div><div> </div><div></div><div> </div><div> </div><div><a href=\"http://dcimg.awalker.jp/img1.php?id=iRYBO3DwohvQhbLJmxIwdC9p881VdppT6HEOFf2QovcqsTcLRt680OOlZIZVYPZd9NuzujAhseCJ6OYRhhbamY2YYIBs4Vd2kokWCuKX1S5vABBuLwaf6oin3T38PYx6kAPtWaSFREZSy3ZqqcS4y03j3hiA7mjk3zfowAan60szzR3Y5bjS27gQ4K8kLJmdW0lHeYwY\"><img src=\"http://img.nogizaka46.com/blog/nanase.nishino/img/2017/04/14/7677042/0002.jpeg\"/></a></div><div>きいちゃんの足</div><div> </div><div> </div><div> </div><div>またねぇ</div><div> </div></div>\n",
      "http://img.nogizaka46.com/blog/nanase.nishino/img/2017/04/14/7677042/0002.jpeg\n",
      "nanase.nishino.c9e182c7ac30436da8b85e6f472ee960\n",
      "http://blog.nogizaka46.com/nanase.nishino/?d=20170403\n",
      "詰め替え用\n",
      "2017-04-03 00:00:00\n",
      "<div class=\"entrybody\"><div> </div><div> 4月だぁ〜〜</div><div>エイプリルフールは、生きてきた22回中、まだ一度も乗っかったことありません</div><div>せっかく嘘つけるなら すぐにバレない上手いのがいいし</div><div>でも思いつかんなぁ〜って感じで 流してきました</div><div>いつか自信ある嘘つきたいな-_-b</div><div> </div><div> </div><div>TGC。ありがとうございました！</div><div>SHIBUYA109福神というコラボをさせていただき</div><div>私はみなみと2人でFIG&amp;VIPERさんと コラボ服作りました✨</div><div>どいやさん！</div><div> 帽子、握手会で被ってきてくれる人いっぱいで嬉しい！</div><div> </div><div><a href=\"http://dcimg.awalker.jp/img1.php?id=20VeHkFkZU091UFjU0iyRxLe3OHiEqzbADTeCNxUjji6F7NTJEMD84Kq8TdFrPVYLTTgPyGggjv9qrmYhAlPDcJYS9DES9hd7fuMNXkLEAoJTdImhTfGkJZDXTxWQTWgCSeZCC1OasDfErhZ3F6YOJcLWrna0lm0R9m5TMfWOCcdthcHrijVTJgfqjqXm9LUviuZzbfD\"><img src=\"http://img.nogizaka46.com/blog/nanase.nishino/img/2017/04/03/1231544/0000.jpeg\"/></a></div><div> </div><div>ローリーズファームさんのステージでは</div><div>あすかとペアで歩かせていただきました</div><div> </div><div>名前を書いたボードとか、うちわ、タオル</div><div>見つけると すごい勇気もらえます。</div><div>なにより声援も！</div><div>うわぁ〜〜って嬉しくて、でもひとつひとつ全部にリアクションできなくて申し訳ない......</div><div>目と耳に 入っています！</div><div>ありがとうございます。</div><div> </div><div>キラキラしたイベントに 私は馴染めないですが、毎回 緊張感をもって、ランウェイ。いい経験をさせていただいている。ありがとうございましたm(_ _)m</div><div> </div><div> </div><div>大阪で全握でした</div><div>お越しいただいたみなさん ありがとうございました。</div><div>約5年ぶり</div><div>ミニライブは、ヘッドセットが安定しなくて暴れてたか</div><div>ら その都度片手で直して...またズレて...直して...ズレる。踊りに集中できなかった！！(&gt;_&gt;)改善しよう</div><div> </div><div>前日入りだったので希望者だけのごはんも行った✨</div><div>普段 外食しやんから</div><div>この機会がいつも楽しみ！</div><div>あったかいご飯を 5、6人で分けながら 食べて、喋ったり話聞いたりして 笑う</div><div>いい空間だなぁ〜って思いました</div><div> </div><div> </div><div>がんばっていきましょー</div><div> </div></div>\n",
      "http://img.nogizaka46.com/blog/nanase.nishino/img/2017/04/03/1231544/0000.jpeg\n",
      "nanase.nishino.5ed87fc31b1d4206b0dee4aa714d57e4\n",
      "http://blog.nogizaka46.com/nanase.nishino/?d=20170321\n",
      "お風呂ーー\n",
      "2017-03-21 00:00:00\n",
      "<div class=\"entrybody\"><div> </div><div>こんばんは</div><div> </div><div>インフルエンサーの衣装</div><div>同じ生地のセットアップちょーかわいい(^o^)！</div><div>パンツがタック入りなの好き</div><div>個人的に、なんとなくジョジョっぽいなぁって思う！</div><div>でも腰部分の生地の張りがモンハンのレウスの装備っぽくも見える</div><div> <a href=\"http://dcimg.awalker.jp/img1.php?id=650uxGuakPkKcedxM6KZGCXgEUkzZ6iMiK62yoD6LCPM3XqQcgSPwXvSQO8FLUNnreNOKcqQWgmm61WeUX1PP0YLDUEVrYUAZLZCaPwLkNEcLfZTSDFGxUgvvNVS7vHm5cr820HDblJbaRcjJLTObLkEYr4yBPnUM1d9XgJD5A5e3g9GyGLhNCiANaJShpreF9wrchHR\"><img src=\"http://img.nogizaka46.com/blog/nanase.nishino/img/2017/03/21/0533426/0000.jpeg\"/></a></div><div> </div><div>振り付けもかっちょいい！</div><div>けど緊張する〜</div><div>カメラ目の前に来て あきらかに自分 ワンショットで撮られてるって思うと力入っちゃう〜</div><div>みんなでダンス揃うと 綺麗なので</div><div>がんばります✨</div><div> </div><div> </div><div>個人pv</div><div>リアルなフサフサの 猫耳。</div><div><a href=\"http://dcimg.awalker.jp/img1.php?id=THFURp3tcwaYqEwdGLi0EbERn4UItuNJFfxJglje8smpr5u6ZyrYzOET6Qnfg6nGlvGTKVT1KcRaGHUeJd2IxlZB6e93OZXCg1lxrADmhqKgl0eWw0mOrqWGysgDI9qDkRuihPISafueQGlhw19Ij6HYcd9rVxijfpLxcH5tSncUEM6GoNL9MwwNpUKb5dlYLGughp3S\"><img src=\"http://img.nogizaka46.com/blog/nanase.nishino/img/2017/03/21/0533426/0001.jpeg\"/></a></div><div>メカキャットさん</div><div>またちょっとだけ アクションできて楽しかった！</div><div>CGすごかったぁ〜</div><div> </div><div> </div><div>毎日たのしい</div><div>映画の撮影、薙刀たのしい((o(^∇^)o))</div><div> </div><div> </div><div>スーパー銭湯行きたいね〜</div><div> </div><div> </div><div> </div></div>\n",
      "http://img.nogizaka46.com/blog/nanase.nishino/img/2017/03/21/0533426/0000.jpeg\n",
      "nanase.nishino.92cd8f1880ab417c86c614282bae0695\n",
      "http://blog.nogizaka46.com/nanase.nishino/?d=20170321\n",
      "お風呂ーー\n",
      "2017-03-21 00:00:00\n",
      "<div class=\"entrybody\"><div> </div><div>こんばんは</div><div> </div><div>インフルエンサーの衣装</div><div>同じ生地のセットアップちょーかわいい(^o^)！</div><div>パンツがタック入りなの好き</div><div>個人的に、なんとなくジョジョっぽいなぁって思う！</div><div>でも腰部分の生地の張りがモンハンのレウスの装備っぽくも見える</div><div> <a href=\"http://dcimg.awalker.jp/img1.php?id=650uxGuakPkKcedxM6KZGCXgEUkzZ6iMiK62yoD6LCPM3XqQcgSPwXvSQO8FLUNnreNOKcqQWgmm61WeUX1PP0YLDUEVrYUAZLZCaPwLkNEcLfZTSDFGxUgvvNVS7vHm5cr820HDblJbaRcjJLTObLkEYr4yBPnUM1d9XgJD5A5e3g9GyGLhNCiANaJShpreF9wrchHR\"><img src=\"http://img.nogizaka46.com/blog/nanase.nishino/img/2017/03/21/0533426/0000.jpeg\"/></a></div><div> </div><div>振り付けもかっちょいい！</div><div>けど緊張する〜</div><div>カメラ目の前に来て あきらかに自分 ワンショットで撮られてるって思うと力入っちゃう〜</div><div>みんなでダンス揃うと 綺麗なので</div><div>がんばります✨</div><div> </div><div> </div><div>個人pv</div><div>リアルなフサフサの 猫耳。</div><div><a href=\"http://dcimg.awalker.jp/img1.php?id=THFURp3tcwaYqEwdGLi0EbERn4UItuNJFfxJglje8smpr5u6ZyrYzOET6Qnfg6nGlvGTKVT1KcRaGHUeJd2IxlZB6e93OZXCg1lxrADmhqKgl0eWw0mOrqWGysgDI9qDkRuihPISafueQGlhw19Ij6HYcd9rVxijfpLxcH5tSncUEM6GoNL9MwwNpUKb5dlYLGughp3S\"><img src=\"http://img.nogizaka46.com/blog/nanase.nishino/img/2017/03/21/0533426/0001.jpeg\"/></a></div><div>メカキャットさん</div><div>またちょっとだけ アクションできて楽しかった！</div><div>CGすごかったぁ〜</div><div> </div><div> </div><div>毎日たのしい</div><div>映画の撮影、薙刀たのしい((o(^∇^)o))</div><div> </div><div> </div><div>スーパー銭湯行きたいね〜</div><div> </div><div> </div><div> </div></div>\n",
      "http://img.nogizaka46.com/blog/nanase.nishino/img/2017/03/21/0533426/0001.jpeg\n",
      "nanase.nishino.0749dc46c7da41b18de912a5cc3dd0f5\n",
      "http://blog.nogizaka46.com/nanase.nishino/?d=20170303\n",
      "すいか風呂\n",
      "2017-03-03 00:00:00\n",
      "<div class=\"entrybody\"><div> </div><div>西野です！</div><div>もう3月になった！</div><div> </div><div>ライブ後すぐに書いてたものです↓</div><div> </div><div>3日間が終わりました</div><div>終わってしまった...</div><div> </div><div>ななみん(;o;)</div><div>最後の日のななみんは、特別 綺麗だった！それで、目を合わせるのが恥ずかしいかった。</div><div>ありきたりな感想かもしれないけど</div><div>ななみんらしかった、というか、</div><div>普段あまり見られない 奥の方にある素の魅力が出ていた気がしました。</div><div> </div><div>本当に 本当に、お疲れ様でした。</div><div> </div><div> </div><div>さいたまスーパーアリーナは、</div><div>初めての会場でした</div><div>リハーサルの時から 会場の大きさ セットのLEDの大きさ にテンションが上がっていました！</div><div>プロジェクションマッピングみたいで どの曲の時も綺麗だった〜</div><div> </div><div>アリーナ席の真上を通過するムービングステージ</div><div>高い場所のゴンドラ</div><div>本ステージ裏にある音席</div><div>超速スピードのトロッコ！</div><div>客席に光るボール投下</div><div>などなど</div><div>新しい仕掛けが増えたことで 楽しみ方も増えたかな？</div><div> </div><div>スタッフさんも メンバーもかなり大変だったけど</div><div>やっぱり楽しかった！！</div><div>乗り切った感((o(^∇^)o))わーいわーい</div><div> </div><div>ソロ5曲も神宮ライブから比べたらリベンジできたかなぁ〜</div><div>もちろん満足はできませんが...</div><div>まだまだ下手くそですいません！</div><div> </div><div>---</div><div> </div><div>non-no4月号</div><div>表紙をさせていただきました！付録はなんと どいやさんカレンダー。</div><div>すごい事になった！</div><div> ぜひ1年間 共に過ごしてみてください。</div><div> </div><div>週刊ビックコミック スピリッツ</div><div>表紙をさせていただきました！</div><div>映画 あさひなぐ で東島旭ちゃん役を演じることになったので、旭ちゃんぽく撮影しました</div><div>薙刀を日々稽古しています。</div><div>肩と足の裏が痛い(ﾟoﾟ;;</div><div>難しいけど 上手くできたとき嬉しくて のめり込んでます！</div><div>いい作品が作れますように！</div><div> </div><div> </div><div> ニンテンドーswitch 予約できひん(;o;)！</div><div> </div><div><a href=\"http://dcimg.awalker.jp/img1.php?id=zx72VcM1h1lpwumKq2VGS5k4VzkzQladJr6oK397sNbPsjGfULXm9YHuF3yRrXYvXGsEeAKz83vTQQQQSOp95fDGRseVfXV2faGuUSTvmzZy08yluoKvlsqjn7CfaDRGYq1mBNvu9EDQyzfulis0AQiSqXE69HOUJWS7cwxXioKAIDs7b5vz3abVSoaRodabsNkUM0Z4\"><img src=\"http://img.nogizaka46.com/blog/nanase.nishino/img/2017/03/03/4987738/0000.jpeg\"/></a></div><div> </div><div><a href=\"http://dcimg.awalker.jp/img1.php?id=0ctkMXxiNsrEOBcZd4YNr7PIBh4QJmE8Np7WFVWFHesdodfVD1pBFs82YRfAUYrfGy22dYBy3cm66KwKCLWetCXSAmEZi1FdHFIEI5EaFxpXyvpVJCWalRIR2rSw8D5PClyg8vYXSWFhob0hU0v2xraW358UEcexsNXMtCtr4FGMUJRKjc3ZQUf3xC1quNpEtSofJk9Q\"><img src=\"http://img.nogizaka46.com/blog/nanase.nishino/img/2017/03/03/4987738/0001.jpeg\"/></a></div><div> </div><div>写真がないのでマネージャーさんが撮ってくれたモニターでご勘弁ください...((o(^∇^)o))</div><div> </div><div> </div><div> よぉーし！</div><div> </div><div> </div><div> </div></div>\n",
      "http://img.nogizaka46.com/blog/nanase.nishino/img/2017/03/03/4987738/0000.jpeg\n",
      "nanase.nishino.f0530524dbcf40659371d5259de9da6e\n",
      "http://blog.nogizaka46.com/nanase.nishino/?d=20170303\n",
      "すいか風呂\n",
      "2017-03-03 00:00:00\n",
      "<div class=\"entrybody\"><div> </div><div>西野です！</div><div>もう3月になった！</div><div> </div><div>ライブ後すぐに書いてたものです↓</div><div> </div><div>3日間が終わりました</div><div>終わってしまった...</div><div> </div><div>ななみん(;o;)</div><div>最後の日のななみんは、特別 綺麗だった！それで、目を合わせるのが恥ずかしいかった。</div><div>ありきたりな感想かもしれないけど</div><div>ななみんらしかった、というか、</div><div>普段あまり見られない 奥の方にある素の魅力が出ていた気がしました。</div><div> </div><div>本当に 本当に、お疲れ様でした。</div><div> </div><div> </div><div>さいたまスーパーアリーナは、</div><div>初めての会場でした</div><div>リハーサルの時から 会場の大きさ セットのLEDの大きさ にテンションが上がっていました！</div><div>プロジェクションマッピングみたいで どの曲の時も綺麗だった〜</div><div> </div><div>アリーナ席の真上を通過するムービングステージ</div><div>高い場所のゴンドラ</div><div>本ステージ裏にある音席</div><div>超速スピードのトロッコ！</div><div>客席に光るボール投下</div><div>などなど</div><div>新しい仕掛けが増えたことで 楽しみ方も増えたかな？</div><div> </div><div>スタッフさんも メンバーもかなり大変だったけど</div><div>やっぱり楽しかった！！</div><div>乗り切った感((o(^∇^)o))わーいわーい</div><div> </div><div>ソロ5曲も神宮ライブから比べたらリベンジできたかなぁ〜</div><div>もちろん満足はできませんが...</div><div>まだまだ下手くそですいません！</div><div> </div><div>---</div><div> </div><div>non-no4月号</div><div>表紙をさせていただきました！付録はなんと どいやさんカレンダー。</div><div>すごい事になった！</div><div> ぜひ1年間 共に過ごしてみてください。</div><div> </div><div>週刊ビックコミック スピリッツ</div><div>表紙をさせていただきました！</div><div>映画 あさひなぐ で東島旭ちゃん役を演じることになったので、旭ちゃんぽく撮影しました</div><div>薙刀を日々稽古しています。</div><div>肩と足の裏が痛い(ﾟoﾟ;;</div><div>難しいけど 上手くできたとき嬉しくて のめり込んでます！</div><div>いい作品が作れますように！</div><div> </div><div> </div><div> ニンテンドーswitch 予約できひん(;o;)！</div><div> </div><div><a href=\"http://dcimg.awalker.jp/img1.php?id=zx72VcM1h1lpwumKq2VGS5k4VzkzQladJr6oK397sNbPsjGfULXm9YHuF3yRrXYvXGsEeAKz83vTQQQQSOp95fDGRseVfXV2faGuUSTvmzZy08yluoKvlsqjn7CfaDRGYq1mBNvu9EDQyzfulis0AQiSqXE69HOUJWS7cwxXioKAIDs7b5vz3abVSoaRodabsNkUM0Z4\"><img src=\"http://img.nogizaka46.com/blog/nanase.nishino/img/2017/03/03/4987738/0000.jpeg\"/></a></div><div> </div><div><a href=\"http://dcimg.awalker.jp/img1.php?id=0ctkMXxiNsrEOBcZd4YNr7PIBh4QJmE8Np7WFVWFHesdodfVD1pBFs82YRfAUYrfGy22dYBy3cm66KwKCLWetCXSAmEZi1FdHFIEI5EaFxpXyvpVJCWalRIR2rSw8D5PClyg8vYXSWFhob0hU0v2xraW358UEcexsNXMtCtr4FGMUJRKjc3ZQUf3xC1quNpEtSofJk9Q\"><img src=\"http://img.nogizaka46.com/blog/nanase.nishino/img/2017/03/03/4987738/0001.jpeg\"/></a></div><div> </div><div>写真がないのでマネージャーさんが撮ってくれたモニターでご勘弁ください...((o(^∇^)o))</div><div> </div><div> </div><div> よぉーし！</div><div> </div><div> </div><div> </div></div>\n",
      "http://img.nogizaka46.com/blog/nanase.nishino/img/2017/03/03/4987738/0001.jpeg\n",
      "nanase.nishino.505cb7867c3e412b97e8f87cc47f3d69\n",
      "http://blog.nogizaka46.com/nanase.nishino/?d=20170131\n",
      "冷たい爪\n",
      "2017-01-31 00:00:00\n",
      "<div class=\"entrybody\"><div> </div><div> 17thシングル</div><div>Wセンター のポジションに選んでいただきました。ありがとうございます。</div><div>また いい作品を作れるように</div><div>新鮮さや 驚きとか笑顔がみなさんに生まれるように</div><div>みんなでがんばります！！</div><div>よろしくお願い致します。</div><div> </div><div> </div><div>相変わらず毎日ゲーム実況の動画を見てます</div><div>wii Uを使えば 家のテレビで楽しめる〜</div><div>ニンテンドーswitchの発売 が楽しみです✨</div><div> </div><div>旅行に行きたいなぁ</div><div>オススメの場所あったらぜひ教えてください！</div><div>1人でもいけそーな</div><div> </div><div><a href=\"http://dcimg.awalker.jp/img1.php?id=ZekRFdgC5PbtW5A4zNvcOT5TVjlfrjpXIUGrzEwzUkJX6n2TVlTzILjAxThICvqXw1cPGxlGas5MdsqBpF3svnoOhWVf9oQMibbUdv2yS35ARb7TM8waTO0fge9z99AIg1xpxNVHkGf6KrGmETKc6CHx3os4qTqBJ09Y6ZUorgNCXHORXzlJNsqVQoZr76VGEzABUH24\"><img src=\"http://img.nogizaka46.com/blog/nanase.nishino/img/2017/01/30/8838869/0000.jpeg\"/></a></div><div> </div><div>質問に答える</div><div> </div><div>●うどんは何の具が好きですか？(^-^)</div><div>きつねあげとネギ！！</div><div> </div><div>●子どものころ、何のゲームをしてましたか？</div><div>ポケモンシリーズ(特に サファイア、ファイアレッド、パール)</div><div>スーパーマリオサンシャイン</div><div>スーパーペーパーマリオ</div><div>らくがき王国</div><div>動物番長</div><div>ギフトピア</div><div>ドカポン</div><div>もんすたあ☆れーす</div><div>どうぶつの森</div><div>とっとこハム太郎シリーズ</div><div>牧場物語シリーズ</div><div>マビノギ</div><div> </div><div> </div><div>ジブリ映画の挿入歌がピアノの音になった アルバムを購入しました</div><div>何度も観たくなる ってすごかぁ</div><div>小さいころ観てた時よりずっと 感動しちゃうしなぁ</div><div> </div><div>癒されよ〜！</div><div> </div><div> </div><div> </div><div> </div><div> </div><div> </div><div> </div></div>\n",
      "http://img.nogizaka46.com/blog/nanase.nishino/img/2017/01/30/8838869/0000.jpeg\n",
      "nanase.nishino.576a1f53cd5f4ce9b8101d2a6ffb19c5\n"
     ]
    }
   ],
   "source": [
    "for row in rows:\n",
    "    for f in row:\n",
    "        print(f)"
   ]
  },
  {
   "cell_type": "code",
   "execution_count": 31,
   "metadata": {},
   "outputs": [
    {
     "name": "stdout",
     "output_type": "stream",
     "text": [
      "169\n"
     ]
    }
   ],
   "source": [
    "cur.execute(\"select count(id) from detail_contents where published regexp '^2012'\")\n",
    "rows = cur.fetchall()\n",
    "for row in rows:\n",
    "    for f in row:\n",
    "        print(f)"
   ]
  },
  {
   "cell_type": "code",
   "execution_count": null,
   "metadata": {
    "collapsed": true
   },
   "outputs": [],
   "source": []
  }
 ],
 "metadata": {
  "kernelspec": {
   "display_name": "Python 3",
   "language": "python",
   "name": "python3"
  },
  "language_info": {
   "codemirror_mode": {
    "name": "ipython",
    "version": 3
   },
   "file_extension": ".py",
   "mimetype": "text/x-python",
   "name": "python",
   "nbconvert_exporter": "python",
   "pygments_lexer": "ipython3",
   "version": "3.6.1"
  }
 },
 "nbformat": 4,
 "nbformat_minor": 2
}
